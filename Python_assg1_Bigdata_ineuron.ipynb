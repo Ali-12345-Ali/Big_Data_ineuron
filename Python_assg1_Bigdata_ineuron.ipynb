{
 "cells": [
  {
   "cell_type": "markdown",
   "id": "a26647cb",
   "metadata": {},
   "source": [
    "## Assignment Part-1 - python\n"
   ]
  },
  {
   "cell_type": "markdown",
   "id": "9109da60",
   "metadata": {},
   "source": [
    "Q1. Why do we call Python as a general purpose and high-level programming language?\n",
    "\n",
    "According to the basic principle of coding, the factor that makes a language high level is its distance from machine binary code. Python is understood as a high-level, interpreted general-purpose language. This means it is not your straight compiled language (like Java or C) but an interpreted dynamic language that has to be run in the given system using another program instead of its local processor. When compiled, other languages turn into Assembly and run directly in the processor. Hence, being an interpreted language, which is not subject to the processor, makes Python a high-level programming language."
   ]
  },
  {
   "cell_type": "markdown",
   "id": "ecb3ef8c",
   "metadata": {},
   "source": [
    "Q2. Why is Python called a dynamically typed language?\n",
    "\n",
    "Python is dynamically typed, which means that variable types are determined and checked at runtime rather than during compilation. In dynamically typed languages like Python, you don't need to explicitly declare the variable type before using it."
   ]
  },
  {
   "cell_type": "code",
   "execution_count": null,
   "id": "8c498487",
   "metadata": {},
   "outputs": [],
   "source": [
    "Q3. List some pros and cons of Python programming language?\n",
    "\n",
    "Pros                              cons\n",
    "\n",
    "Beginner-friendly           Issues with design\n",
    "Large Community             Slower than compiled languages\n",
    "Flexible and Extensible     Security\n",
    "Extensive Libraries         Work Environment\n",
    "Embeddable                  High memory consumption\n",
    "Highly Scalable             Dynamically-typed language\n",
    "IoT Opportunities           Complex multithreading\n",
    "Portable                    Garbage collection leads to potential memory losses"
   ]
  },
  {
   "cell_type": "code",
   "execution_count": null,
   "id": "a4b99161",
   "metadata": {},
   "outputs": [],
   "source": [
    "Q4. In what all domains can we use Python?\n",
    "\n",
    "DData science , web development , AI , ML , Deep learning , software development , GUI , game development etc"
   ]
  },
  {
   "cell_type": "code",
   "execution_count": null,
   "id": "6ba1ac97",
   "metadata": {},
   "outputs": [],
   "source": [
    "Q5. What are variable and how can we declare them?\n",
    "\n",
    "Variables are containers to store data\n",
    "\n",
    "ex: \n",
    "a=3  , here a is variable , it is storing value 3     "
   ]
  },
  {
   "cell_type": "code",
   "execution_count": null,
   "id": "aca26576",
   "metadata": {},
   "outputs": [],
   "source": [
    "Q6. How can we take an input from the user in Python?\n",
    "\n",
    "we ca get input by using input()"
   ]
  },
  {
   "cell_type": "code",
   "execution_count": null,
   "id": "e54a3b77",
   "metadata": {},
   "outputs": [],
   "source": [
    "Q7. What is the default datatype of the value that has been taken as an input using input() function?\n",
    "\n",
    "default datatype taken by input() is string\n"
   ]
  },
  {
   "cell_type": "code",
   "execution_count": null,
   "id": "6adaf2cc",
   "metadata": {},
   "outputs": [],
   "source": [
    "Q8. What is type casting?\n",
    "\n",
    "The conversion of one data type into the other data type is known as type casting in python"
   ]
  },
  {
   "cell_type": "code",
   "execution_count": null,
   "id": "8b8fda07",
   "metadata": {},
   "outputs": [],
   "source": [
    "Q9. Can we take more than one input from the user using single input() function? If yes, how? If no, why?\n",
    "\n",
    "no becase it cannot unpack non-iterable int object "
   ]
  },
  {
   "cell_type": "markdown",
   "id": "6622ab85",
   "metadata": {},
   "source": [
    "Q10. What are keywords?\n",
    "\n",
    " keywords are unique words reserved with defined meanings and functions that we can only apply for those functions."
   ]
  },
  {
   "cell_type": "code",
   "execution_count": 16,
   "id": "7170976b",
   "metadata": {},
   "outputs": [
    {
     "data": {
      "text/plain": [
       "4"
      ]
     },
     "execution_count": 16,
     "metadata": {},
     "output_type": "execute_result"
    }
   ],
   "source": [
    "Q11. Can we use keywords as a variable? Support your answer with reason.\n",
    "\n",
    "Keywords are the words in programming language which have a special meaning decided by the lanuage. \n",
    "So we cannot use them as a variable as we cannot assign any value to them. "
   ]
  },
  {
   "cell_type": "code",
   "execution_count": 17,
   "id": "1c5a86e9",
   "metadata": {},
   "outputs": [
    {
     "data": {
      "text/plain": [
       "5"
      ]
     },
     "execution_count": 17,
     "metadata": {},
     "output_type": "execute_result"
    }
   ],
   "source": [
    "Q12. What is indentation? What's the use of indentaion in Python?\n",
    "\n",
    "Indentation formats program source code to improve readability. \n",
    "Programming languages make use of indentation to define program structure .\n",
    "Programmers use indentation to understand the structure of their programs to human readers."
   ]
  },
  {
   "cell_type": "code",
   "execution_count": null,
   "id": "f22e5e2e",
   "metadata": {},
   "outputs": [],
   "source": [
    "Q13. How can we throw some output in Python?\n",
    "\n",
    "By using  print function"
   ]
  },
  {
   "cell_type": "markdown",
   "id": "bd5993f6",
   "metadata": {},
   "source": [
    "Q14. What are operators in Python?\n",
    "\n",
    "Operators in general are used to perform operations on values and variables.\n",
    "\n",
    "Types of Operators in Python\n",
    "\n",
    "Arithmetic Operators :  +,-,* etc\n",
    "Comparison Operators :  <,> ,= , != \n",
    "Logical Operators    : and or not\n",
    "Bitwise Operators    : & , | , ~ ,^\n",
    "Assignment Operators : =, +=, -=  etc\n",
    "Identity Operators   : is , is not\n",
    "Membership Operators : in , not in"
   ]
  },
  {
   "cell_type": "code",
   "execution_count": null,
   "id": "bedc7dad",
   "metadata": {},
   "outputs": [],
   "source": [
    "Q15. What is difference between / and // operators?\n",
    "\n",
    "This /  method of division is considered as the ‘classic division’. \n",
    "The ‘/’ single slash carries out the float division. The output of this operator is always a quotient with a float datatype. The output remains float even if the input numbers are integer values.\n",
    "Even the sign of the input operands doesn’t matter about the output.\n",
    "\n",
    "This // method of division is considered the ‘true division’. \n",
    "The ‘//’ double slash carries out integer division which is also known as floor division. The output of this operator will be the quotient rounded off to the closest whole number. \n",
    "For example, 15 divided by 6 is actually 2.5 but it gets rounded off to 2.\n",
    "\n"
   ]
  },
  {
   "cell_type": "markdown",
   "id": "8f3cfa81",
   "metadata": {},
   "source": [
    "Q16. Write a code that gives following as an output.\n",
    "      iNeuroniNeuroniNeuroniNeuron\n",
    "\n",
    "x='iNeuron'\n",
    "print(x*4)\n",
    "\n"
   ]
  },
  {
   "cell_type": "markdown",
   "id": "932ec588",
   "metadata": {},
   "source": [
    "Q17. Write a code to take a number as an input from the user and check if the number is odd or even.\n",
    "\n",
    "y= int(input())\n",
    "\n",
    "if y%2==0:\n",
    "    print('even')\n",
    "else:\n",
    "    print('odd')\n",
    "    \n"
   ]
  },
  {
   "cell_type": "code",
   "execution_count": null,
   "id": "6471d97a",
   "metadata": {},
   "outputs": [],
   "source": [
    "Q18. What are boolean operator?\n",
    "\n",
    "Python has three Boolean operators, or logical operators: and , or , and not . \n",
    "You can use them to check if certain conditions are met before deciding the execution path your programs will follow"
   ]
  },
  {
   "cell_type": "code",
   "execution_count": 30,
   "id": "f4d9e4c7",
   "metadata": {},
   "outputs": [
    {
     "name": "stdout",
     "output_type": "stream",
     "text": [
      "1\n",
      "0\n",
      "False\n",
      "1\n"
     ]
    }
   ],
   "source": [
    "'''Q19. What will the output of the following?\n",
    "```\n",
    "1 or 0\n",
    "\n",
    "0 and 0\n",
    "\n",
    "True and False and True\n",
    "\n",
    "1 or 0 or 0\n",
    "\n",
    "'''\n",
    "\n",
    "ans:\n",
    "    \n",
    "1\n",
    "0\n",
    "False\n",
    "1\n"
   ]
  },
  {
   "cell_type": "code",
   "execution_count": null,
   "id": "6353bd70",
   "metadata": {},
   "outputs": [],
   "source": [
    "Q20. What are conditional statements in Python? \n",
    "\n",
    "Conditional statements (if, else, and elif) are fundamental programming constructs,\n",
    ",that allow you to control the flow of your program based on conditions that you specify. \n",
    "They provide a way to make decisions in your program and execute different code based on those decisions."
   ]
  },
  {
   "cell_type": "code",
   "execution_count": null,
   "id": "bb6cac81",
   "metadata": {},
   "outputs": [],
   "source": [
    "Q21. What is use of 'if', 'elif' and 'else' keywords?\n",
    "\n",
    " \n",
    "The if...else statement is used to execute a block of code among two alternatives.\n",
    "However, if we need to make a choice between more than two alternatives, then we use the if...elif...else statement. "
   ]
  },
  {
   "cell_type": "markdown",
   "id": "06e10d92",
   "metadata": {},
   "source": [
    "Q22.Write a code to take the age of person as an input and if age >= 18 display \"I can vote\". \n",
    "  If age is < 18 display \"I can't vote\".\n",
    "\n",
    "\n",
    "z= int(input())\n",
    "if z>=18 :\n",
    "    print('i can vote')\n",
    "else:\n",
    "    print('i cant vote')\n",
    "\n"
   ]
  },
  {
   "cell_type": "markdown",
   "id": "59c58e07",
   "metadata": {},
   "source": [
    "Q23. Write a code that displays the sum of all the even numbers from the given list.\n",
    "\n",
    "numbers = [12, 75, 150, 180, 145, 525, 50]\n",
    "numbers1=[]\n",
    "\n",
    "for i in numbers :\n",
    "    \n",
    "    if i%2 == 0:\n",
    "        numbers1.append(i)\n",
    "    else : \n",
    "        pass\n",
    "    \n",
    "    \n",
    "print(sum(numbers1))    \n",
    "    \n",
    "    \n",
    "    "
   ]
  },
  {
   "cell_type": "markdown",
   "id": "489bc2ed",
   "metadata": {},
   "source": [
    " Q24. Write a code to take 3 numbers as an input from the user and display the greatest no as output.\n",
    "\n",
    "x,y,z= int(input()),int(input()),int(input())\n",
    "\n",
    "if x>y>z or x>y==z:\n",
    "    print('x is greatest')\n",
    "elif x==y==z:\n",
    "    print('all are equal')\n",
    "elif x<y and y>z :\n",
    "    print('y is greatest')\n",
    "else:\n",
    "    print('z is greatest')\n",
    "    \n",
    "    \n",
    "    "
   ]
  },
  {
   "cell_type": "markdown",
   "id": "0f137108",
   "metadata": {},
   "source": [
    "\n",
    "Q25. Write a program to display only those numbers from a list that satisfy the following conditions\n",
    "\n",
    "- The number must be divisible by five\n",
    "\n",
    "- If the number is greater than 150, then skip it and move to the next number\n",
    "\n",
    "- If the number is greater than 500, then stop the loop\n",
    "```\n",
    "numbers = [12, 75, 150, 180, 145, 525, 50]\n",
    "\n",
    "\n",
    "Answer :\n",
    "\n",
    "\n",
    "numbers = [12, 75, 150, 180, 145, 525, 50]\n",
    "numbers2=[]\n",
    "\n",
    "for i in numbers:\n",
    "    \n",
    "    if i%5==0 and i<150:\n",
    "         numbers2.append(i)\n",
    "            \n",
    "    elif i>150:\n",
    "        continue\n",
    "            \n",
    "    elif i>500:\n",
    "        break\n",
    "print(numbers2)\n",
    "         \n",
    "\n"
   ]
  },
  {
   "cell_type": "code",
   "execution_count": null,
   "id": "c88910f2",
   "metadata": {},
   "outputs": [],
   "source": []
  },
  {
   "cell_type": "code",
   "execution_count": null,
   "id": "7e828bc3",
   "metadata": {},
   "outputs": [],
   "source": []
  },
  {
   "cell_type": "code",
   "execution_count": null,
   "id": "1f3aefee",
   "metadata": {},
   "outputs": [],
   "source": []
  },
  {
   "cell_type": "code",
   "execution_count": null,
   "id": "51c9e630",
   "metadata": {},
   "outputs": [],
   "source": []
  },
  {
   "cell_type": "code",
   "execution_count": null,
   "id": "0958cb28",
   "metadata": {},
   "outputs": [],
   "source": []
  },
  {
   "cell_type": "code",
   "execution_count": null,
   "id": "44f60cd3",
   "metadata": {},
   "outputs": [],
   "source": []
  },
  {
   "cell_type": "code",
   "execution_count": null,
   "id": "20e6e75f",
   "metadata": {},
   "outputs": [],
   "source": []
  },
  {
   "cell_type": "code",
   "execution_count": null,
   "id": "78333fd5",
   "metadata": {},
   "outputs": [],
   "source": []
  },
  {
   "cell_type": "code",
   "execution_count": null,
   "id": "c22fb4c9",
   "metadata": {},
   "outputs": [],
   "source": []
  },
  {
   "cell_type": "code",
   "execution_count": null,
   "id": "f9e316fb",
   "metadata": {},
   "outputs": [],
   "source": []
  },
  {
   "cell_type": "code",
   "execution_count": null,
   "id": "01ef9cd4",
   "metadata": {},
   "outputs": [],
   "source": []
  },
  {
   "cell_type": "code",
   "execution_count": null,
   "id": "a61723c4",
   "metadata": {},
   "outputs": [],
   "source": []
  },
  {
   "cell_type": "code",
   "execution_count": null,
   "id": "40d916d3",
   "metadata": {},
   "outputs": [],
   "source": []
  },
  {
   "cell_type": "code",
   "execution_count": null,
   "id": "2b1f3fad",
   "metadata": {},
   "outputs": [],
   "source": []
  },
  {
   "cell_type": "code",
   "execution_count": null,
   "id": "f883fc2a",
   "metadata": {},
   "outputs": [],
   "source": []
  }
 ],
 "metadata": {
  "kernelspec": {
   "display_name": "Python 3 (ipykernel)",
   "language": "python",
   "name": "python3"
  },
  "language_info": {
   "codemirror_mode": {
    "name": "ipython",
    "version": 3
   },
   "file_extension": ".py",
   "mimetype": "text/x-python",
   "name": "python",
   "nbconvert_exporter": "python",
   "pygments_lexer": "ipython3",
   "version": "3.10.9"
  }
 },
 "nbformat": 4,
 "nbformat_minor": 5
}
